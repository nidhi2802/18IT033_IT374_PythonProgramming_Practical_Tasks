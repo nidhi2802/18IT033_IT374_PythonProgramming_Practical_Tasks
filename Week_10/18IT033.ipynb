{
  "nbformat": 4,
  "nbformat_minor": 0,
  "metadata": {
    "kernelspec": {
      "display_name": "Python 3",
      "language": "python",
      "name": "python3"
    },
    "language_info": {
      "codemirror_mode": {
        "name": "ipython",
        "version": 3
      },
      "file_extension": ".py",
      "mimetype": "text/x-python",
      "name": "python",
      "nbconvert_exporter": "python",
      "pygments_lexer": "ipython3",
      "version": "3.6.4"
    },
    "colab": {
      "name": "18IT033_Numpy_Lab_Exercise.ipynb",
      "provenance": [],
      "collapsed_sections": []
    }
  },
  "cells": [
    {
      "cell_type": "markdown",
      "metadata": {
        "id": "ukgSJp6fAW11",
        "colab_type": "text"
      },
      "source": [
        "# NumPy Lab Exercises \n",
        "\n",
        "Solve the following questions in Lab to test your knowledge on NumPy Package!"
      ]
    },
    {
      "cell_type": "markdown",
      "metadata": {
        "id": "WhjBpO1IAW15",
        "colab_type": "text"
      },
      "source": [
        "#### Import NumPy package as np"
      ]
    },
    {
      "cell_type": "code",
      "metadata": {
        "id": "wg6HkS8aAW16",
        "colab_type": "code",
        "colab": {}
      },
      "source": [
        "import numpy as np"
      ],
      "execution_count": 8,
      "outputs": []
    },
    {
      "cell_type": "markdown",
      "metadata": {
        "id": "Hg-xnJdeAW19",
        "colab_type": "text"
      },
      "source": [
        "imp\n",
        "\n",
        "#### Create an array of 20 0's "
      ]
    },
    {
      "cell_type": "code",
      "metadata": {
        "id": "G1MFteJSAW1-",
        "colab_type": "code",
        "colab": {
          "base_uri": "https://localhost:8080/",
          "height": 51
        },
        "outputId": "9cd2c056-7525-4263-b46a-725b36d713ee"
      },
      "source": [
        "np.zeros(20)"
      ],
      "execution_count": null,
      "outputs": [
        {
          "output_type": "execute_result",
          "data": {
            "text/plain": [
              "array([0., 0., 0., 0., 0., 0., 0., 0., 0., 0., 0., 0., 0., 0., 0., 0., 0.,\n",
              "       0., 0., 0.])"
            ]
          },
          "metadata": {
            "tags": []
          },
          "execution_count": 7
        }
      ]
    },
    {
      "cell_type": "markdown",
      "metadata": {
        "id": "FWr1aQ8NAW2B",
        "colab_type": "text"
      },
      "source": [
        "#### Create an array of 20 1's"
      ]
    },
    {
      "cell_type": "code",
      "metadata": {
        "id": "Ftuyd138AW2C",
        "colab_type": "code",
        "colab": {
          "base_uri": "https://localhost:8080/",
          "height": 51
        },
        "outputId": "0b70320d-636b-4fac-cf21-a08883ced6d7"
      },
      "source": [
        "np.ones(20)"
      ],
      "execution_count": null,
      "outputs": [
        {
          "output_type": "execute_result",
          "data": {
            "text/plain": [
              "array([1., 1., 1., 1., 1., 1., 1., 1., 1., 1., 1., 1., 1., 1., 1., 1., 1.,\n",
              "       1., 1., 1.])"
            ]
          },
          "metadata": {
            "tags": []
          },
          "execution_count": 8
        }
      ]
    },
    {
      "cell_type": "markdown",
      "metadata": {
        "id": "wWji5sjBAW2E",
        "colab_type": "text"
      },
      "source": [
        "#### Create an array containing 30 times 10"
      ]
    },
    {
      "cell_type": "code",
      "metadata": {
        "id": "7BWh-jvaAW2F",
        "colab_type": "code",
        "colab": {
          "base_uri": "https://localhost:8080/",
          "height": 68
        },
        "outputId": "59a73328-f283-4213-cdfd-467028670997"
      },
      "source": [
        "np.ones(30)*10"
      ],
      "execution_count": null,
      "outputs": [
        {
          "output_type": "execute_result",
          "data": {
            "text/plain": [
              "array([10., 10., 10., 10., 10., 10., 10., 10., 10., 10., 10., 10., 10.,\n",
              "       10., 10., 10., 10., 10., 10., 10., 10., 10., 10., 10., 10., 10.,\n",
              "       10., 10., 10., 10.])"
            ]
          },
          "metadata": {
            "tags": []
          },
          "execution_count": 9
        }
      ]
    },
    {
      "cell_type": "markdown",
      "metadata": {
        "id": "iJoUHC-qAW2G",
        "colab_type": "text"
      },
      "source": [
        "#### Create an array of integers starting from 21 until 31"
      ]
    },
    {
      "cell_type": "code",
      "metadata": {
        "id": "TV_LiDH0AW2H",
        "colab_type": "code",
        "colab": {
          "base_uri": "https://localhost:8080/",
          "height": 34
        },
        "outputId": "69c25ac3-3ef0-4dfe-8e73-446aefb0230b"
      },
      "source": [
        "np.arange(21,32)"
      ],
      "execution_count": null,
      "outputs": [
        {
          "output_type": "execute_result",
          "data": {
            "text/plain": [
              "array([21, 22, 23, 24, 25, 26, 27, 28, 29, 30, 31])"
            ]
          },
          "metadata": {
            "tags": []
          },
          "execution_count": 10
        }
      ]
    },
    {
      "cell_type": "markdown",
      "metadata": {
        "id": "OwJo8-6u1Znq",
        "colab_type": "text"
      },
      "source": [
        ""
      ]
    },
    {
      "cell_type": "markdown",
      "metadata": {
        "id": "XksxwEd4AW2J",
        "colab_type": "text"
      },
      "source": [
        "#### Create an array of all even integers from 2 to 60"
      ]
    },
    {
      "cell_type": "code",
      "metadata": {
        "id": "ONs6lo55AW2K",
        "colab_type": "code",
        "colab": {
          "base_uri": "https://localhost:8080/",
          "height": 51
        },
        "outputId": "93b07551-5ae3-4040-c811-a826dfbd3ca3"
      },
      "source": [
        "np.arange(2,61,2)"
      ],
      "execution_count": null,
      "outputs": [
        {
          "output_type": "execute_result",
          "data": {
            "text/plain": [
              "array([ 2,  4,  6,  8, 10, 12, 14, 16, 18, 20, 22, 24, 26, 28, 30, 32, 34,\n",
              "       36, 38, 40, 42, 44, 46, 48, 50, 52, 54, 56, 58, 60])"
            ]
          },
          "metadata": {
            "tags": []
          },
          "execution_count": 11
        }
      ]
    },
    {
      "cell_type": "markdown",
      "metadata": {
        "id": "qmW5M2NZAW2L",
        "colab_type": "text"
      },
      "source": [
        "#### Create a 5x6 matrix with values ranging from 0 to 29"
      ]
    },
    {
      "cell_type": "code",
      "metadata": {
        "id": "oW4l0VhdAW2M",
        "colab_type": "code",
        "colab": {
          "base_uri": "https://localhost:8080/",
          "height": 102
        },
        "outputId": "1c968988-6b0f-41b9-f958-cba3f63e0c01"
      },
      "source": [
        "np.arange(0,30).reshape(5,6)"
      ],
      "execution_count": null,
      "outputs": [
        {
          "output_type": "execute_result",
          "data": {
            "text/plain": [
              "array([[ 0,  1,  2,  3,  4,  5],\n",
              "       [ 6,  7,  8,  9, 10, 11],\n",
              "       [12, 13, 14, 15, 16, 17],\n",
              "       [18, 19, 20, 21, 22, 23],\n",
              "       [24, 25, 26, 27, 28, 29]])"
            ]
          },
          "metadata": {
            "tags": []
          },
          "execution_count": 12
        }
      ]
    },
    {
      "cell_type": "markdown",
      "metadata": {
        "id": "6MKLZo_2AW2O",
        "colab_type": "text"
      },
      "source": [
        "#### Create an identity matrix of shape 5x5"
      ]
    },
    {
      "cell_type": "code",
      "metadata": {
        "id": "WDgHmPlJAW2P",
        "colab_type": "code",
        "colab": {
          "base_uri": "https://localhost:8080/",
          "height": 102
        },
        "outputId": "ce2b9f8e-66ac-4a25-879e-ed579cf69f3c"
      },
      "source": [
        "np.identity(5)"
      ],
      "execution_count": null,
      "outputs": [
        {
          "output_type": "execute_result",
          "data": {
            "text/plain": [
              "array([[1., 0., 0., 0., 0.],\n",
              "       [0., 1., 0., 0., 0.],\n",
              "       [0., 0., 1., 0., 0.],\n",
              "       [0., 0., 0., 1., 0.],\n",
              "       [0., 0., 0., 0., 1.]])"
            ]
          },
          "metadata": {
            "tags": []
          },
          "execution_count": 15
        }
      ]
    },
    {
      "cell_type": "markdown",
      "metadata": {
        "id": "lHNiYeUpN8fi",
        "colab_type": "text"
      },
      "source": [
        ""
      ]
    },
    {
      "cell_type": "markdown",
      "metadata": {
        "id": "qH5pW4VUAW2U",
        "colab_type": "text"
      },
      "source": [
        "#### Use NumPy to generate a random set of 10 numbers between 0 and 1"
      ]
    },
    {
      "cell_type": "code",
      "metadata": {
        "id": "xQcvovmAAW2V",
        "colab_type": "code",
        "colab": {
          "base_uri": "https://localhost:8080/",
          "height": 51
        },
        "outputId": "514962e1-3cbf-4587-dc1f-d2a9ff5d634c"
      },
      "source": [
        "np.random.rand(1,10)"
      ],
      "execution_count": 17,
      "outputs": [
        {
          "output_type": "execute_result",
          "data": {
            "text/plain": [
              "array([[0.71613287, 0.92421284, 0.26191808, 0.86419354, 0.34790223,\n",
              "        0.23923147, 0.38998698, 0.37198194, 0.75031944, 0.73998957]])"
            ]
          },
          "metadata": {
            "tags": []
          },
          "execution_count": 17
        }
      ]
    },
    {
      "cell_type": "markdown",
      "metadata": {
        "id": "JmuKV97YAW2W",
        "colab_type": "text"
      },
      "source": [
        "#### Use NumPy to generate an array of 15 random numbers sampled from a standard normal distribution"
      ]
    },
    {
      "cell_type": "code",
      "metadata": {
        "id": "KvMIweGmAW2X",
        "colab_type": "code",
        "colab": {
          "base_uri": "https://localhost:8080/",
          "height": 68
        },
        "outputId": "e736f54f-0c34-4da6-ed15-4eaec4c7b8a9"
      },
      "source": [
        "np.random.normal(0,1,15)"
      ],
      "execution_count": 10,
      "outputs": [
        {
          "output_type": "execute_result",
          "data": {
            "text/plain": [
              "array([-0.63793811,  0.03471578, -1.26920761, -0.31557605, -2.32824201,\n",
              "       -2.05279963,  0.07407884, -0.34962785,  1.03853007,  0.44716019,\n",
              "        1.30569315,  1.9535945 ,  0.02879563, -1.0873781 , -0.13156664])"
            ]
          },
          "metadata": {
            "tags": []
          },
          "execution_count": 10
        }
      ]
    },
    {
      "cell_type": "markdown",
      "metadata": {
        "id": "Ymhy86jrAW2Z",
        "colab_type": "text"
      },
      "source": [
        "#### Create the following 5x10 matrix with the values using arange,reshape and arithmetic operators:"
      ]
    },
    {
      "cell_type": "code",
      "metadata": {
        "id": "1LrRpRh2AW2Z",
        "colab_type": "code",
        "colab": {
          "base_uri": "https://localhost:8080/",
          "height": 102
        },
        "outputId": "72367754-1b0e-4789-d905-d2caa8f3ace7"
      },
      "source": [
        "np.arange(0.01,0.51,0.01).reshape(5,10)"
      ],
      "execution_count": 12,
      "outputs": [
        {
          "output_type": "execute_result",
          "data": {
            "text/plain": [
              "array([[0.01, 0.02, 0.03, 0.04, 0.05, 0.06, 0.07, 0.08, 0.09, 0.1 ],\n",
              "       [0.11, 0.12, 0.13, 0.14, 0.15, 0.16, 0.17, 0.18, 0.19, 0.2 ],\n",
              "       [0.21, 0.22, 0.23, 0.24, 0.25, 0.26, 0.27, 0.28, 0.29, 0.3 ],\n",
              "       [0.31, 0.32, 0.33, 0.34, 0.35, 0.36, 0.37, 0.38, 0.39, 0.4 ],\n",
              "       [0.41, 0.42, 0.43, 0.44, 0.45, 0.46, 0.47, 0.48, 0.49, 0.5 ]])"
            ]
          },
          "metadata": {
            "tags": []
          },
          "execution_count": 12
        }
      ]
    },
    {
      "cell_type": "markdown",
      "metadata": {
        "id": "1Cn1vRGfAW2b",
        "colab_type": "text"
      },
      "source": [
        "#### Create an array of 30 linearly spaced points between 0 and 10:"
      ]
    },
    {
      "cell_type": "code",
      "metadata": {
        "id": "WX34rDFPAW2b",
        "colab_type": "code",
        "colab": {
          "base_uri": "https://localhost:8080/",
          "height": 119
        },
        "outputId": "2a1121dc-8ff5-4976-e66c-b2b356691751"
      },
      "source": [
        "np.linspace(0,10,30)"
      ],
      "execution_count": 13,
      "outputs": [
        {
          "output_type": "execute_result",
          "data": {
            "text/plain": [
              "array([ 0.        ,  0.34482759,  0.68965517,  1.03448276,  1.37931034,\n",
              "        1.72413793,  2.06896552,  2.4137931 ,  2.75862069,  3.10344828,\n",
              "        3.44827586,  3.79310345,  4.13793103,  4.48275862,  4.82758621,\n",
              "        5.17241379,  5.51724138,  5.86206897,  6.20689655,  6.55172414,\n",
              "        6.89655172,  7.24137931,  7.5862069 ,  7.93103448,  8.27586207,\n",
              "        8.62068966,  8.96551724,  9.31034483,  9.65517241, 10.        ])"
            ]
          },
          "metadata": {
            "tags": []
          },
          "execution_count": 13
        }
      ]
    },
    {
      "cell_type": "markdown",
      "metadata": {
        "id": "GVUuzuwhAW2d",
        "colab_type": "text"
      },
      "source": [
        "## Numpy Indexing and Selections\n",
        "\n",
        "Using the below given Matrix, generate the output for the below questions"
      ]
    },
    {
      "cell_type": "code",
      "metadata": {
        "id": "UEMB1NxjAW2e",
        "colab_type": "code",
        "colab": {
          "base_uri": "https://localhost:8080/",
          "height": 187
        },
        "outputId": "f10b3cf5-8851-436a-8357-adc7dccb813a"
      },
      "source": [
        "arr1 = np.arange(1,101,1).reshape(10,10)\n",
        "print(arr1)"
      ],
      "execution_count": 18,
      "outputs": [
        {
          "output_type": "stream",
          "text": [
            "[[  1   2   3   4   5   6   7   8   9  10]\n",
            " [ 11  12  13  14  15  16  17  18  19  20]\n",
            " [ 21  22  23  24  25  26  27  28  29  30]\n",
            " [ 31  32  33  34  35  36  37  38  39  40]\n",
            " [ 41  42  43  44  45  46  47  48  49  50]\n",
            " [ 51  52  53  54  55  56  57  58  59  60]\n",
            " [ 61  62  63  64  65  66  67  68  69  70]\n",
            " [ 71  72  73  74  75  76  77  78  79  80]\n",
            " [ 81  82  83  84  85  86  87  88  89  90]\n",
            " [ 91  92  93  94  95  96  97  98  99 100]]\n"
          ],
          "name": "stdout"
        }
      ]
    },
    {
      "cell_type": "markdown",
      "metadata": {
        "collapsed": true,
        "id": "vR_B3jovAW2f",
        "colab_type": "text"
      },
      "source": [
        "#### Retrieve the last 2 rows and first 3 column values of the above matrix using index & selection technique"
      ]
    },
    {
      "cell_type": "code",
      "metadata": {
        "id": "ngVnlGSVAW2g",
        "colab_type": "code",
        "colab": {
          "base_uri": "https://localhost:8080/",
          "height": 51
        },
        "outputId": "d6afdd0b-d7ef-4d91-f707-eb3cec6e2427"
      },
      "source": [
        "arr1[8:,0:3]"
      ],
      "execution_count": 40,
      "outputs": [
        {
          "output_type": "execute_result",
          "data": {
            "text/plain": [
              "array([[81, 82, 83],\n",
              "       [91, 92, 93]])"
            ]
          },
          "metadata": {
            "tags": []
          },
          "execution_count": 40
        }
      ]
    },
    {
      "cell_type": "markdown",
      "metadata": {
        "collapsed": true,
        "id": "sfLFRnLtAW2i",
        "colab_type": "text"
      },
      "source": [
        "#### Retrieve the value 55 from the above matrix using index & selection technique"
      ]
    },
    {
      "cell_type": "code",
      "metadata": {
        "id": "4nG0TV_2AW2i",
        "colab_type": "code",
        "colab": {
          "base_uri": "https://localhost:8080/",
          "height": 34
        },
        "outputId": "dbf21da1-1128-4d03-d947-86ca08682d2b"
      },
      "source": [
        "arr1[5:6,4:5]"
      ],
      "execution_count": 39,
      "outputs": [
        {
          "output_type": "execute_result",
          "data": {
            "text/plain": [
              "array([[55]])"
            ]
          },
          "metadata": {
            "tags": []
          },
          "execution_count": 39
        }
      ]
    },
    {
      "cell_type": "markdown",
      "metadata": {
        "collapsed": true,
        "id": "bEJE1HfjAW2k",
        "colab_type": "text"
      },
      "source": [
        "#### Retrieve the values from the 3rd column in the above matrix"
      ]
    },
    {
      "cell_type": "code",
      "metadata": {
        "id": "lCjEUUPEAW2l",
        "colab_type": "code",
        "colab": {
          "base_uri": "https://localhost:8080/",
          "height": 34
        },
        "outputId": "9c0702a6-0700-45b7-cd44-238dd1bb93b1"
      },
      "source": [
        "arr1[0:,2:3].flatten()"
      ],
      "execution_count": 38,
      "outputs": [
        {
          "output_type": "execute_result",
          "data": {
            "text/plain": [
              "array([ 3, 13, 23, 33, 43, 53, 63, 73, 83, 93])"
            ]
          },
          "metadata": {
            "tags": []
          },
          "execution_count": 38
        }
      ]
    },
    {
      "cell_type": "markdown",
      "metadata": {
        "collapsed": true,
        "id": "QVyA27OSAW2n",
        "colab_type": "text"
      },
      "source": [
        "#### Retrieve the values from the 4th row in the above matrix"
      ]
    },
    {
      "cell_type": "code",
      "metadata": {
        "id": "h0RLI84MAW2o",
        "colab_type": "code",
        "colab": {
          "base_uri": "https://localhost:8080/",
          "height": 34
        },
        "outputId": "c4062d78-9eff-4b9c-a979-f6bfff7b690a"
      },
      "source": [
        "arr1[3:4,:]"
      ],
      "execution_count": 37,
      "outputs": [
        {
          "output_type": "execute_result",
          "data": {
            "text/plain": [
              "array([[31, 32, 33, 34, 35, 36, 37, 38, 39, 40]])"
            ]
          },
          "metadata": {
            "tags": []
          },
          "execution_count": 37
        }
      ]
    },
    {
      "cell_type": "markdown",
      "metadata": {
        "collapsed": true,
        "id": "oMeGccBJAW2s",
        "colab_type": "text"
      },
      "source": [
        "#### Retrieve values from the 2nd & 4th rows in the above matrix"
      ]
    },
    {
      "cell_type": "code",
      "metadata": {
        "id": "mHiaXbYPAW2t",
        "colab_type": "code",
        "colab": {
          "base_uri": "https://localhost:8080/",
          "height": 51
        },
        "outputId": "1cddc96c-b025-4e05-b18a-472c5026d3a1"
      },
      "source": [
        "arr1[[2,4],:]"
      ],
      "execution_count": 36,
      "outputs": [
        {
          "output_type": "execute_result",
          "data": {
            "text/plain": [
              "array([[21, 22, 23, 24, 25, 26, 27, 28, 29, 30],\n",
              "       [41, 42, 43, 44, 45, 46, 47, 48, 49, 50]])"
            ]
          },
          "metadata": {
            "tags": []
          },
          "execution_count": 36
        }
      ]
    },
    {
      "cell_type": "markdown",
      "metadata": {
        "id": "qN-Bolc-AW2v",
        "colab_type": "text"
      },
      "source": [
        "#### Calculate sum of all the values in the matrix"
      ]
    },
    {
      "cell_type": "code",
      "metadata": {
        "id": "OQT68X_hAW2v",
        "colab_type": "code",
        "colab": {
          "base_uri": "https://localhost:8080/",
          "height": 34
        },
        "outputId": "1fa97cd6-07d9-4ad5-eb1f-fe3aedcc1781"
      },
      "source": [
        "np.sum(arr1)"
      ],
      "execution_count": 42,
      "outputs": [
        {
          "output_type": "execute_result",
          "data": {
            "text/plain": [
              "5050"
            ]
          },
          "metadata": {
            "tags": []
          },
          "execution_count": 42
        }
      ]
    },
    {
      "cell_type": "markdown",
      "metadata": {
        "id": "52-Kuvc3AW2x",
        "colab_type": "text"
      },
      "source": [
        "#### Calculate standard deviation of all the values in the matrix"
      ]
    },
    {
      "cell_type": "code",
      "metadata": {
        "id": "5ylDmizDAW2x",
        "colab_type": "code",
        "colab": {
          "base_uri": "https://localhost:8080/",
          "height": 34
        },
        "outputId": "7c3a22a9-d9f8-41c4-ea0b-d9fab534b83d"
      },
      "source": [
        "np.std(arr1)"
      ],
      "execution_count": 43,
      "outputs": [
        {
          "output_type": "execute_result",
          "data": {
            "text/plain": [
              "28.86607004772212"
            ]
          },
          "metadata": {
            "tags": []
          },
          "execution_count": 43
        }
      ]
    },
    {
      "cell_type": "markdown",
      "metadata": {
        "id": "o_sRVBcAAW2z",
        "colab_type": "text"
      },
      "source": [
        "#### Calculate the variance of all values in the matrix"
      ]
    },
    {
      "cell_type": "code",
      "metadata": {
        "id": "CLunEnMgAW2z",
        "colab_type": "code",
        "colab": {
          "base_uri": "https://localhost:8080/",
          "height": 34
        },
        "outputId": "3118d72f-9292-4f3a-a186-d122c42c5540"
      },
      "source": [
        "np.var(arr1)"
      ],
      "execution_count": 44,
      "outputs": [
        {
          "output_type": "execute_result",
          "data": {
            "text/plain": [
              "833.25"
            ]
          },
          "metadata": {
            "tags": []
          },
          "execution_count": 44
        }
      ]
    },
    {
      "cell_type": "markdown",
      "metadata": {
        "collapsed": true,
        "id": "WpMA_nN_AW21",
        "colab_type": "text"
      },
      "source": [
        "#### Calculate the mean of all values in the matrix"
      ]
    },
    {
      "cell_type": "code",
      "metadata": {
        "id": "lXKD4NNxAW21",
        "colab_type": "code",
        "colab": {
          "base_uri": "https://localhost:8080/",
          "height": 34
        },
        "outputId": "3f56bccb-fcb6-4b3e-9b9b-31e5c60b85be"
      },
      "source": [
        "np.mean(arr1)"
      ],
      "execution_count": 45,
      "outputs": [
        {
          "output_type": "execute_result",
          "data": {
            "text/plain": [
              "50.5"
            ]
          },
          "metadata": {
            "tags": []
          },
          "execution_count": 45
        }
      ]
    },
    {
      "cell_type": "markdown",
      "metadata": {
        "id": "RUde7JfJAW23",
        "colab_type": "text"
      },
      "source": [
        "### End of Lab Exercise - NumPy"
      ]
    }
  ]
}