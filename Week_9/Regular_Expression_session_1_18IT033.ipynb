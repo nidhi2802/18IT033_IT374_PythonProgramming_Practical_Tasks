{
  "nbformat": 4,
  "nbformat_minor": 0,
  "metadata": {
    "kernelspec": {
      "display_name": "Python 3",
      "language": "python",
      "name": "python3"
    },
    "language_info": {
      "codemirror_mode": {
        "name": "ipython",
        "version": 3
      },
      "file_extension": ".py",
      "mimetype": "text/x-python",
      "name": "python",
      "nbconvert_exporter": "python",
      "pygments_lexer": "ipython3",
      "version": "3.8.3"
    },
    "colab": {
      "name": "Regular_Expression_session_1.ipynb",
      "provenance": [],
      "collapsed_sections": []
    }
  },
  "cells": [
    {
      "cell_type": "markdown",
      "metadata": {
        "id": "2ZOVut_GbJMs",
        "colab_type": "text"
      },
      "source": [
        "# Regular Experession in Python"
      ]
    },
    {
      "cell_type": "markdown",
      "metadata": {
        "id": "_hDVx0XvbJMu",
        "colab_type": "text"
      },
      "source": [
        "#### What is regular Expression?\n",
        "\n",
        "A RegEx, or Regular Expression, is a sequence of characters that forms a search pattern in a string.\n",
        "RegEx can be used to check if a string contains the specified search pattern.\n",
        "Regular Expression is independent of any programming language, and you can find general rules of regular expression on [this link.](https://en.wikipedia.org/wiki/Regular_expression)\n",
        "\n",
        "> Regular expressions are used in search engines, search and replace dialogs of word processors and text editors, in text processing utilities such as sed and AWK and in lexical analysis. Many programming languages provide regex capabilities either built-in or via libraries.\n",
        "\n",
        "Python module re - provides regular expression matching operations similar to those found in Perl.\n",
        "[Here is original documentation of re module.](https://docs.python.org/3/library/re.html)\n",
        "Also, gentle introduction to usage of Regular expression in python is available [Here.](https://docs.python.org/3/howto/regex.html#regex-howto)\n",
        "\n",
        "\n",
        "* Refereces\n",
        "\n",
        "\n",
        "https://github.com/python/cpython/blob/3.8/Lib/re.py\n",
        "\n",
        "https://docs.python.org/3/library/re.html\n"
      ]
    },
    {
      "cell_type": "code",
      "metadata": {
        "id": "LRA5qyJYivtd",
        "colab_type": "code",
        "colab": {}
      },
      "source": [
        "import re"
      ],
      "execution_count": null,
      "outputs": []
    },
    {
      "cell_type": "markdown",
      "metadata": {
        "id": "NkzVeJz_h7Hp",
        "colab_type": "text"
      },
      "source": [
        "re module exports the following functions:\n",
        "\n",
        "    match     Match a regular expression pattern to the beginning of a string.\n",
        "    fullmatch Match a regular expression pattern to all of a string.\n",
        "    search    Search a string for the presence of a pattern.\n",
        "    sub       Substitute occurrences of a pattern found in a string.\n",
        "    subn      Same as sub, but also return the number of substitutions made.\n",
        "    split     Split a string by the occurrences of a pattern.\n",
        "    findall   Find all occurrences of a pattern in a string.\n",
        "    finditer  Return an iterator yielding a Match object for each match.\n",
        "    compile   Compile a pattern into a Pattern object.\n",
        "    purge     Clear the regular expression cache.\n",
        "    escape    Backslash all non-alphanumerics in a string."
      ]
    },
    {
      "cell_type": "code",
      "metadata": {
        "id": "zT_x_jUciQk-",
        "colab_type": "code",
        "colab": {
          "base_uri": "https://localhost:8080/",
          "height": 51
        },
        "outputId": "9d1eadc8-5fe5-43e7-802f-3618fa18b204"
      },
      "source": [
        "import re\n",
        "''' \n",
        "re.match(pattern, string, flags=0)\n",
        "\n",
        "If zero or more characters at the beginning of string match the regular expression pattern, \n",
        "return a corresponding match object. \n",
        "Return None if the string does not match the pattern; \n",
        "\n",
        "Note that even in MULTILINE mode, re.match() will only match at the \n",
        "beginning of the string and not at the beginning of each line.\n",
        "'''\n",
        "\n",
        "sample_string=\"I wonder if store will open if owner is not there\"\n",
        "sample_string2=\"If I am late, I am sorry\"\n",
        "\n",
        "print(re.match(\"If\", sample_string))\n",
        "print(re.match(\"If\", sample_string2))"
      ],
      "execution_count": 8,
      "outputs": [
        {
          "output_type": "stream",
          "text": [
            "None\n",
            "<_sre.SRE_Match object; span=(0, 2), match='If'>\n"
          ],
          "name": "stdout"
        }
      ]
    },
    {
      "cell_type": "code",
      "metadata": {
        "id": "FjqrCYYi8NcN",
        "colab_type": "code",
        "colab": {
          "base_uri": "https://localhost:8080/",
          "height": 68
        },
        "outputId": "86b51ba9-b216-4051-c1b6-a4b9cfc861d5"
      },
      "source": [
        "'''\n",
        "re.fullmatch(pattern, string, flags=0)\n",
        "\n",
        "If the whole string matches the regular expression pattern, return a corresponding match object. \n",
        "Return None if the string does not match the pattern; \n",
        "\n",
        "'''\n",
        "\n",
        "print(re.fullmatch(\"If\", sample_string))\n",
        "print(re.fullmatch(\"If my name is\", \"If my name is \"))\n",
        "print(re.fullmatch(\"If my name is\", \"If my name is\"))"
      ],
      "execution_count": 14,
      "outputs": [
        {
          "output_type": "stream",
          "text": [
            "None\n",
            "None\n",
            "<_sre.SRE_Match object; span=(0, 13), match='If my name is'>\n"
          ],
          "name": "stdout"
        }
      ]
    },
    {
      "cell_type": "code",
      "metadata": {
        "id": "-AxcG-Fc9MV8",
        "colab_type": "code",
        "colab": {
          "base_uri": "https://localhost:8080/",
          "height": 68
        },
        "outputId": "de7735c1-79e9-47bb-9bee-fefdc58f4004"
      },
      "source": [
        "'''\n",
        "re.search(pattern, string, flags=0)\n",
        "\n",
        "Scan through string looking for the first location \n",
        "where the regular expression pattern produces a match, and \n",
        "return a corresponding match object. \n",
        "Return None if no position in the string matches the pattern; \n",
        "\n",
        "'''\n",
        "print(re.search(\"open\", sample_string))\n",
        "print(re.search(\"if\", \"If\"))\n",
        "print(re.search(\"am sorry\", sample_string2))"
      ],
      "execution_count": 19,
      "outputs": [
        {
          "output_type": "stream",
          "text": [
            "<_sre.SRE_Match object; span=(23, 27), match='open'>\n",
            "None\n",
            "<_sre.SRE_Match object; span=(14, 22), match='am sorry'>\n"
          ],
          "name": "stdout"
        }
      ]
    },
    {
      "cell_type": "code",
      "metadata": {
        "id": "AKxewHZL-POS",
        "colab_type": "code",
        "colab": {
          "base_uri": "https://localhost:8080/",
          "height": 68
        },
        "outputId": "0a05c0ba-0322-4902-f2a4-aba032031753"
      },
      "source": [
        "'''\n",
        "re.sub(pattern, repl, string, count=0, flags=0)\n",
        "  \n",
        "  Return the string obtained by replacing pattern in string by the repl. \n",
        "  If the pattern isn’t found, string is returned unchanged. \n",
        "  repl can be a string or a function; \n",
        "  if it is a string, any backslash escapes in it are processed. \n",
        "  That is, \\n is converted to a single newline character. \n",
        "  Unknown escapes of ASCII letters are reserved for future use and treated as errors. \n",
        "  Other unknown escapes such as \\& are left alone. \n",
        "  Backreferences, such as \\6, are replaced with the substring matched by group 6 in the pattern. \n",
        "'''\n",
        "\n",
        "print(re.sub(\"open\",\"open,\",sample_string))\n",
        "print(re.sub(\", \",\",\\n\",sample_string2))\n"
      ],
      "execution_count": 32,
      "outputs": [
        {
          "output_type": "stream",
          "text": [
            "I wonder if store will open, if owner is not there\n",
            "If am late,\n",
            "I am sorry\n"
          ],
          "name": "stdout"
        }
      ]
    },
    {
      "cell_type": "code",
      "metadata": {
        "id": "C0OBbjcdBB5O",
        "colab_type": "code",
        "colab": {
          "base_uri": "https://localhost:8080/",
          "height": 51
        },
        "outputId": "ba3544e4-9ab2-4266-fd81-bb6c679b35da"
      },
      "source": [
        "'''\n",
        "re.subn(pattern, repl, string, count=0, flags=0)\n",
        "\n",
        "Perform the same operation as sub(), but return a tuple (new_string, number_of_subs_made).\n",
        "'''\n",
        "print(re.subn(\"if\",\"if,\",sample_string))\n",
        "print(re.subn(\"am sorry\",\"apologise\",sample_string2))\n"
      ],
      "execution_count": 37,
      "outputs": [
        {
          "output_type": "stream",
          "text": [
            "('I wonder if, store will open if, owner is not there', 2)\n",
            "('If am late, I apologise', 1)\n"
          ],
          "name": "stdout"
        }
      ]
    },
    {
      "cell_type": "code",
      "metadata": {
        "id": "YlgFOG-_Bdpe",
        "colab_type": "code",
        "colab": {
          "base_uri": "https://localhost:8080/",
          "height": 51
        },
        "outputId": "04a86e81-e975-4c2d-fe95-83f0484b7875"
      },
      "source": [
        "'''\n",
        "re.split(pattern, string, maxsplit=0, flags=0)\n",
        "\n",
        "Split string by the occurrences of pattern. \n",
        "If capturing parentheses are used in pattern, \n",
        "then the text of all groups in the pattern are also returned as part of the resulting list. \n",
        "If maxsplit is nonzero, at most maxsplit splits occur, \n",
        "and the remainder of the string is returned as the final element of the list.\n",
        "'''\n",
        "print(re.split(\"if\",sample_string,1))\n",
        "print(re.split(\"am\",sample_string2))"
      ],
      "execution_count": 42,
      "outputs": [
        {
          "output_type": "stream",
          "text": [
            "['I wonder ', ' store will open if owner is not there']\n",
            "['If ', ' late, I ', ' sorry']\n"
          ],
          "name": "stdout"
        }
      ]
    },
    {
      "cell_type": "code",
      "metadata": {
        "id": "yAf2zwjMDpeM",
        "colab_type": "code",
        "colab": {
          "base_uri": "https://localhost:8080/",
          "height": 68
        },
        "outputId": "025fef4b-4651-4098-e48b-89925f1099eb"
      },
      "source": [
        "'''\n",
        "re.findall(pattern, string, flags=0)\n",
        "\n",
        "Return all non-overlapping matches of pattern in string, as a list of strings. \n",
        "The string is scanned left-to-right, and matches are returned in the order found. \n",
        "If one or more groups are present in the pattern, return a list of groups; \n",
        "this will be a list of tuples if the pattern has more than one group. \n",
        "Empty matches are included in the result.\n",
        "'''\n",
        "\n",
        "print(re.findall(\"er\",sample_string))\n",
        "print(re.findall(\"er\",sample_string2))\n",
        "print(re.findall(\"am\",sample_string2))"
      ],
      "execution_count": 46,
      "outputs": [
        {
          "output_type": "stream",
          "text": [
            "['er', 'er', 'er']\n",
            "[]\n",
            "['am', 'am']\n"
          ],
          "name": "stdout"
        }
      ]
    },
    {
      "cell_type": "code",
      "metadata": {
        "id": "a4ktswi2EvqE",
        "colab_type": "code",
        "colab": {
          "base_uri": "https://localhost:8080/",
          "height": 153
        },
        "outputId": "b3881bbe-f8fc-4270-c1a8-a15402918e1c"
      },
      "source": [
        "'''\n",
        "re.finditer(pattern, string, flags=0)\n",
        "\n",
        "Return an iterator yielding match objects over all non-overlapping matches \n",
        "for the RE pattern in string. \n",
        "The string is scanned left-to-right, and matches are returned in the order found. \n",
        "'''\n",
        "print(re.finditer(\"er\",sample_string))\n",
        "rex = re.finditer(\"er\",sample_string)\n",
        "for i in rex:\n",
        "  print(i)\n",
        "\n",
        "print(re.finditer(\"er\",sample_string2))\n",
        "rex1 = re.finditer(\"er\",sample_string2)\n",
        "for i in rex1:\n",
        "  print(i)\n",
        "\n",
        "print(re.finditer(\"am\",sample_string2))\n",
        "rex2 = re.finditer(\"am\",sample_string2)\n",
        "for i in rex2:\n",
        "  print(i)"
      ],
      "execution_count": 50,
      "outputs": [
        {
          "output_type": "stream",
          "text": [
            "<callable_iterator object at 0x7f8766990cf8>\n",
            "<_sre.SRE_Match object; span=(6, 8), match='er'>\n",
            "<_sre.SRE_Match object; span=(34, 36), match='er'>\n",
            "<_sre.SRE_Match object; span=(46, 48), match='er'>\n",
            "<callable_iterator object at 0x7f876699ad30>\n",
            "<callable_iterator object at 0x7f876699acc0>\n",
            "<_sre.SRE_Match object; span=(3, 5), match='am'>\n",
            "<_sre.SRE_Match object; span=(14, 16), match='am'>\n"
          ],
          "name": "stdout"
        }
      ]
    },
    {
      "cell_type": "code",
      "metadata": {
        "id": "iYpwvA_EFikH",
        "colab_type": "code",
        "colab": {
          "base_uri": "https://localhost:8080/",
          "height": 68
        },
        "outputId": "2b5d328e-8cb8-4701-9535-f27d12637e2c"
      },
      "source": [
        "'''\n",
        "re.compile(pattern, flags=0)\n",
        "\n",
        "Compile a regular expression pattern into a regular expression object,\n",
        " which can be used for matching using its match(), search() and other methods.\n",
        "\n",
        "The expression’s behaviour can be modified by specifying a flags value. \n",
        "Flag Values can be any of the re flag variables, combined using bitwise OR (the | operator).\n",
        "\n",
        "Note: Using re.compile() and saving the resulting regular expression object for \n",
        "reuse is more efficient when the expression will be used several times in a single program.\n",
        "'''\n",
        "string1 = \"18IT033\"\n",
        "string2 = \"My id is 18CE033\"\n",
        "pattern1=\"^[0-9]{2}(IT)[0-9]{3}\"\n",
        "patt1 = re.compile(pattern1)\n",
        "result1 = patt1.match(string1)\n",
        "print(result1)\n",
        "result1 = re.match(pattern1, string1)\n",
        "print(result1)\n",
        "result2 = patt1.match(string2)\n",
        "print(result2)\n"
      ],
      "execution_count": 64,
      "outputs": [
        {
          "output_type": "stream",
          "text": [
            "<_sre.SRE_Match object; span=(0, 7), match='18IT033'>\n",
            "<_sre.SRE_Match object; span=(0, 7), match='18IT033'>\n",
            "None\n"
          ],
          "name": "stdout"
        }
      ]
    },
    {
      "cell_type": "code",
      "metadata": {
        "id": "WrneFF8oJQ5X",
        "colab_type": "code",
        "colab": {}
      },
      "source": [
        "'''\n",
        "re.purge()\n",
        "  Clear the regular expression cache.\n",
        "'''\n",
        "\n",
        "re.purge()"
      ],
      "execution_count": 68,
      "outputs": []
    },
    {
      "cell_type": "code",
      "metadata": {
        "id": "Q6AoTKi9Jjf_",
        "colab_type": "code",
        "colab": {
          "base_uri": "https://localhost:8080/",
          "height": 68
        },
        "outputId": "c6622839-7448-4704-dcf4-9a62cfa31676"
      },
      "source": [
        "'''\n",
        "re.escape(pattern)\n",
        "Escape special characters in pattern. \n",
        "This is useful if you want to match an arbitrary literal string \n",
        "that may have regular expression metacharacters in it.\n",
        "'''\n",
        "print(re.escape(\"h.(h)\"))\n",
        "print(re.escape(\"n&n\"))\n",
        "print(re.escape(\"n*{n}\"))"
      ],
      "execution_count": 72,
      "outputs": [
        {
          "output_type": "stream",
          "text": [
            "h\\.\\(h\\)\n",
            "n\\&n\n",
            "n\\*\\{n\\}\n"
          ],
          "name": "stdout"
        }
      ]
    }
  ]
}